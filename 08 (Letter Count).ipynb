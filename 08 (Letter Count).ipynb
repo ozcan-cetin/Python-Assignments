{
 "cells": [
  {
   "cell_type": "markdown",
   "metadata": {},
   "source": [
    "Task:\n",
    "\n",
    "Count the number of each letter in a sentence.\n",
    "\n",
    "The department you work for undertook a project construction that makes word / text analysis. You are asked to calculate the number of letters or any chars in the sentences entered under this project.\n",
    "\n",
    "Write a Python program that;\n",
    "\n",
    "1. takes a sentence from the user,\n",
    "2. counts the number of each letter/chars of the sentence,\n",
    "3. collects the letters/chars as a key and the counted numbers as a value in a dictionary."
   ]
  },
  {
   "cell_type": "markdown",
   "metadata": {},
   "source": [
    "Çalıştığınız departman kelime/metin analizi yapan bir proje yapımını üstlenmiştir. Bu proje kapsamında girilen cümlelerdeki harf veya karakter sayısını hesaplamanız istenmektedir.\n",
    "\n",
    "Bir Python programı yazın;\n",
    "\n",
    "kullanıcıdan bir cümle alır, \n",
    "cümlenin her harfinin/karakterinin sayısını sayar, \n",
    "sözlükte harfleri/karakterleri anahtar, sayılan sayıları değer olarak toplar.\n"
   ]
  },
  {
   "cell_type": "markdown",
   "metadata": {},
   "source": [
    "Examples\n",
    "input \n",
    "hippo runs to us!\n",
    "\n",
    "output\n",
    "{'s': 2, 'r': 1, 't': 1, 'h': 1, 'n': 1, \n",
    "'i': 1, 'u': 2, 'o': 2, 'p': 2, ' ': 3, '!': 1}"
   ]
  },
  {
   "cell_type": "markdown",
   "metadata": {},
   "source": [
    "Note that; this question is famous on the web, so that do it yourself to get more benefits from it. By the way, Do not use try - except block.\n",
    " \n",
    "Bunu not et; bu soru internette meşhurdur, bu yüzden ondan daha fazla fayda sağlamak için bunu kendin yap. Bu arada, blok hariç try - kullanmayınız."
   ]
  },
  {
   "cell_type": "code",
   "execution_count": 11,
   "metadata": {},
   "outputs": [
    {
     "name": "stdout",
     "output_type": "stream",
     "text": [
      "{'n': 1, 'u': 1, 'm': 1, 'b': 1, 'e': 2, 'r': 3, ' ': 2, 'o': 1, 'f': 1, 'c': 2, 'h': 1, 'a': 2, 't': 1, 's': 1}\n"
     ]
    }
   ],
   "source": [
    "sentence=input(\"enter a sentence:\")\n",
    "number_of_characters={}\n",
    "for i in sentence:\n",
    "    if not i in number_of_characters:\n",
    "        number_of_characters[i]=1\n",
    "    else:\n",
    "        number_of_characters[i]+=1\n",
    "print(number_of_characters)"
   ]
  },
  {
   "cell_type": "code",
   "execution_count": null,
   "metadata": {},
   "outputs": [],
   "source": []
  }
 ],
 "metadata": {
  "interpreter": {
   "hash": "9bf2ca0f4a7adc3ce2f237ca763c1538d3ef289a4e7face3612a01cdae9f6807"
  },
  "kernelspec": {
   "display_name": "Python 3.10.2 64-bit",
   "language": "python",
   "name": "python3"
  },
  "language_info": {
   "codemirror_mode": {
    "name": "ipython",
    "version": 3
   },
   "file_extension": ".py",
   "mimetype": "text/x-python",
   "name": "python",
   "nbconvert_exporter": "python",
   "pygments_lexer": "ipython3",
   "version": "3.10.2"
  },
  "orig_nbformat": 4
 },
 "nbformat": 4,
 "nbformat_minor": 2
}
